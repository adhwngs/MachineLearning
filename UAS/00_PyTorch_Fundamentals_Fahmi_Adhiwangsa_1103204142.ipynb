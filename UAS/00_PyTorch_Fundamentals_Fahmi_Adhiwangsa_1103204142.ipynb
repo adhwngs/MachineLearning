{
  "nbformat": 4,
  "nbformat_minor": 0,
  "metadata": {
    "colab": {
      "provenance": [],
      "gpuType": "T4"
    },
    "kernelspec": {
      "name": "python3",
      "display_name": "Python 3"
    },
    "language_info": {
      "name": "python"
    },
    "accelerator": "GPU"
  },
  "cells": [
    {
      "cell_type": "markdown",
      "source": [
        "Nama : Fahmi Adhiwangsa\n",
        "\n",
        "NIM  : 1103204142\n"
      ],
      "metadata": {
        "id": "2ZJS--ASGksl"
      }
    },
    {
      "cell_type": "markdown",
      "source": [
        "##**Import Pytorch**"
      ],
      "metadata": {
        "id": "15pyQ7yiITWt"
      }
    },
    {
      "cell_type": "markdown",
      "source": [
        "##Pendhuluan Tensor"
      ],
      "metadata": {
        "id": "VnCnyfAeIYf-"
      }
    },
    {
      "cell_type": "markdown",
      "source": [
        "Tensor adalah struktur data dasar yang digunakan untuk menyimpan dan memanipulasi data. Tensor mirip dengan matriks atau array multidimensi, tetapi dengan fleksibilitas tambahan. Tensors dapat memiliki dimensi (rank) yang bervariasi, yang memungkinkan mereka mewakili berbagai jenis data, mulai dari skalar (0D) hingga vektor (1D), matriks (2D), hingga tensor dengan dimensi yang lebih tinggi.\n",
        "\n",
        "Dalam PyTorch, tensor dapat digunakan untuk menyimpan data numerik, dan mereka mendukung operasi matematika yang efisien. Misalnya, tensor dapat digunakan untuk merepresentasikan input dan output dalam jaringan saraf, dan operasi tensor dapat diterapkan untuk melakukan perhitungan yang melibatkan transformasi linier, aktivasi, dan fungsi lainnya.\n",
        "\n",
        "Tensor memberikan abstraksi yang kuat untuk bekerja dengan data numerik dalam konteks machine learning dan deep learning, dan PyTorch memiliki fungsi-fungsi bawaan yang memungkinkan manipulasi tensor dengan cepat dan efisien.\n",
        "\n",
        "\n",
        "\n"
      ],
      "metadata": {
        "id": "8UgVBGosJTme"
      }
    },
    {
      "cell_type": "markdown",
      "source": [
        "###1. Import PyTorch"
      ],
      "metadata": {
        "id": "AArlUeg3WWJS"
      }
    },
    {
      "cell_type": "code",
      "execution_count": 1,
      "metadata": {
        "colab": {
          "base_uri": "https://localhost:8080/",
          "height": 36
        },
        "id": "t9xzt-RjGjq0",
        "outputId": "dda009ea-7943-40a2-a6c4-fc3acf8a1499"
      },
      "outputs": [
        {
          "output_type": "execute_result",
          "data": {
            "text/plain": [
              "'2.1.0+cu121'"
            ],
            "application/vnd.google.colaboratory.intrinsic+json": {
              "type": "string"
            }
          },
          "metadata": {},
          "execution_count": 1
        }
      ],
      "source": [
        "import torch\n",
        "torch.__version__"
      ]
    },
    {
      "cell_type": "markdown",
      "source": [
        "###2. Create a random tensor with shape (6, 6)."
      ],
      "metadata": {
        "id": "h1RpbFZsUrlq"
      }
    },
    {
      "cell_type": "code",
      "source": [
        "tensor_random = torch.rand((6, 6))\n",
        "print(\"Tensor Random:\")\n",
        "print(tensor_random)"
      ],
      "metadata": {
        "colab": {
          "base_uri": "https://localhost:8080/"
        },
        "id": "ZP_OAr3nT7HM",
        "outputId": "bc693987-62b6-4323-fba2-d0acfd1fbf49"
      },
      "execution_count": 11,
      "outputs": [
        {
          "output_type": "stream",
          "name": "stdout",
          "text": [
            "Tensor Random:\n",
            "tensor([[0.8549, 0.5509, 0.2868, 0.2063, 0.4451, 0.3593],\n",
            "        [0.7204, 0.0731, 0.9699, 0.1078, 0.8829, 0.4132],\n",
            "        [0.7572, 0.6948, 0.5209, 0.5932, 0.8797, 0.6286],\n",
            "        [0.7653, 0.1132, 0.8559, 0.6721, 0.6267, 0.5691],\n",
            "        [0.7437, 0.9592, 0.3887, 0.2214, 0.3742, 0.1953],\n",
            "        [0.7405, 0.2529, 0.2332, 0.9314, 0.9575, 0.5575]])\n"
          ]
        }
      ]
    },
    {
      "cell_type": "markdown",
      "source": [
        "###3. Perform a matrix multiplication on the tensor from 2 with another random tensor with shape (1, 5) (hint: you may have to transpose the second tensor)"
      ],
      "metadata": {
        "id": "UYMcL6XVXJv8"
      }
    },
    {
      "cell_type": "code",
      "source": [
        "tensor_2 = torch.rand((1, 6))\n",
        "result = torch.matmul(tensor_random, tensor_2.t())  # Mengubah tensor kedua menjadi transpose\n",
        "print(\"\\nHasil Perkalian Matriks:\")\n",
        "print(result, tensor_2.shape)"
      ],
      "metadata": {
        "colab": {
          "base_uri": "https://localhost:8080/"
        },
        "id": "mNRPK4YcUsFk",
        "outputId": "3825023b-cb94-4f00-bad0-07af23ac8178"
      },
      "execution_count": 13,
      "outputs": [
        {
          "output_type": "stream",
          "name": "stdout",
          "text": [
            "\n",
            "Hasil Perkalian Matriks:\n",
            "tensor([[1.5430],\n",
            "        [1.3495],\n",
            "        [1.9874],\n",
            "        [1.7002],\n",
            "        [1.5421],\n",
            "        [1.8919]]) torch.Size([1, 6])\n"
          ]
        }
      ]
    },
    {
      "cell_type": "markdown",
      "source": [
        "Setiap elemen di dalam matriks tersebut adalah hasil perkalian matriks sebelumnya. Jika Anda memiliki dua matriks, katakanlah A dengan dimensi m x n dan B dengan dimensi n x p, maka hasil perkalian matriks AB akan menghasilkan matriks dengan dimensi m x p. Dalam kasus ini, matriks inputnya mungkin memiliki dimensi 1 x n, dan hasil perkalian tersebut adalah matriks 1 x p."
      ],
      "metadata": {
        "id": "OWREcyYNV6_W"
      }
    },
    {
      "cell_type": "markdown",
      "source": [
        "###4. Set the random seed to 0 and do 2 & 3 over again."
      ],
      "metadata": {
        "id": "NbyPg00UXIJZ"
      }
    },
    {
      "cell_type": "code",
      "source": [
        "torch.manual_seed(0)\n",
        "\n",
        "tensor_random = torch.rand((6, 6))\n",
        "result = torch.matmul(tensor_random, tensor_2.t())\n",
        "print(\"\\nHasil Perkalian Matriks setelah Mengatur Benih Acak:\")\n",
        "print(result, result.shape)"
      ],
      "metadata": {
        "colab": {
          "base_uri": "https://localhost:8080/"
        },
        "id": "WHKTZXblV7Uo",
        "outputId": "2f455e88-0252-47c3-b0b0-fdf01af0e064"
      },
      "execution_count": 15,
      "outputs": [
        {
          "output_type": "stream",
          "name": "stdout",
          "text": [
            "\n",
            "Hasil Perkalian Matriks setelah Mengatur Benih Acak:\n",
            "tensor([[1.3301],\n",
            "        [1.5749],\n",
            "        [0.9846],\n",
            "        [1.3768],\n",
            "        [1.0312],\n",
            "        [0.9546]]) torch.Size([6, 1])\n"
          ]
        }
      ]
    },
    {
      "cell_type": "markdown",
      "source": [
        "###5. Speaking of random seeds, we saw how to set it with torch.manual_seed() but is there a GPU equivalent? (hint: you'll need to look into the documentation for torch.cuda for this one)"
      ],
      "metadata": {
        "id": "u0O1H_kKZkHJ"
      }
    },
    {
      "cell_type": "code",
      "source": [
        "torch.cuda.manual_seed(1234)"
      ],
      "metadata": {
        "id": "_0SknYyDYaY7"
      },
      "execution_count": 16,
      "outputs": []
    },
    {
      "cell_type": "markdown",
      "source": [
        "###6. Create two random tensors of shape (2, 3) and send them both to the GPU (you'll need access to a GPU for this). Set torch.manual_seed(1234) when creating the tensors (this doesn't have to be the GPU random seed). The output should be something like:"
      ],
      "metadata": {
        "id": "AqGO8S9VZ6Jo"
      }
    },
    {
      "cell_type": "code",
      "source": [
        "torch.manual_seed(1234)\n",
        "\n",
        "# Check for access to GPU\n",
        "device = \"cuda\" if torch.cuda.is_available() else \"cpu\"\n",
        "print(f\"Device: {device}\")\n",
        "\n",
        "# Create two random tensors on GPU\n",
        "tensor_gpu_1 = torch.rand((2, 3), device='cuda')\n",
        "tensor_gpu_2 = torch.rand((2, 3), device='cuda')\n",
        "tensor_gpu_1,tensor_gpu_2"
      ],
      "metadata": {
        "colab": {
          "base_uri": "https://localhost:8080/"
        },
        "id": "dCeTq3UAZ8g4",
        "outputId": "d2785bcb-327f-4bd1-b74a-85cc6328933f"
      },
      "execution_count": 17,
      "outputs": [
        {
          "output_type": "stream",
          "name": "stdout",
          "text": [
            "Device: cuda\n"
          ]
        },
        {
          "output_type": "execute_result",
          "data": {
            "text/plain": [
              "(tensor([[0.1272, 0.8167, 0.5440],\n",
              "         [0.6601, 0.2721, 0.9737]], device='cuda:0'),\n",
              " tensor([[0.6208, 0.0276, 0.3255],\n",
              "         [0.1114, 0.6812, 0.3608]], device='cuda:0'))"
            ]
          },
          "metadata": {},
          "execution_count": 17
        }
      ]
    },
    {
      "cell_type": "markdown",
      "source": [
        "Output yang Anda berikan mencakup dua tensor, dan keduanya memiliki perangkat CUDA ('cuda:0') sebagai tempat penyimpanan. Hal ini menunjukkan bahwa operasi atau inisialisasi tensor tersebut terjadi pada perangkat GPU (CUDA).\n",
        "\n"
      ],
      "metadata": {
        "id": "j11Ywpj9bkvv"
      }
    },
    {
      "cell_type": "markdown",
      "source": [
        "###7. Perform a matrix multiplication on the tensors you created in 6 (again, you may have to adjust the shapes of one of the tensors)."
      ],
      "metadata": {
        "id": "vZmulqzQcAqc"
      }
    },
    {
      "cell_type": "code",
      "source": [
        "result_gpu = torch.matmul(tensor_gpu_1, tensor_gpu_2.t())  # Mengubah tensor kedua menjadi transpose\n",
        "print(\"\\nHasil Perkalian Matriks pada GPU:\")\n",
        "print(result_gpu, result_gpu.shape)"
      ],
      "metadata": {
        "colab": {
          "base_uri": "https://localhost:8080/"
        },
        "id": "_tecqeghcATm",
        "outputId": "c3e8aa26-0566-46d8-e2b0-429a38c36319"
      },
      "execution_count": 18,
      "outputs": [
        {
          "output_type": "stream",
          "name": "stdout",
          "text": [
            "\n",
            "Hasil Perkalian Matriks pada GPU:\n",
            "tensor([[0.2786, 0.7668],\n",
            "        [0.7343, 0.6102]], device='cuda:0') torch.Size([2, 2])\n"
          ]
        }
      ]
    },
    {
      "cell_type": "markdown",
      "source": [
        "###8. Find the maximum and minimum values"
      ],
      "metadata": {
        "id": "FTRivd_rcrXr"
      }
    },
    {
      "cell_type": "code",
      "source": [
        "max_value = torch.max(result_gpu)\n",
        "min_value = torch.min(result_gpu)\n",
        "print(\"\\nNilai Maksimum:\", max_value.item())\n",
        "print(\"Nilai Minimum:\", min_value.item())"
      ],
      "metadata": {
        "colab": {
          "base_uri": "https://localhost:8080/"
        },
        "id": "oAMGLMJ2dQA7",
        "outputId": "49a61e1a-e6aa-4d7e-f5e3-51a1e5f38227"
      },
      "execution_count": 19,
      "outputs": [
        {
          "output_type": "stream",
          "name": "stdout",
          "text": [
            "\n",
            "Nilai Maksimum: 0.7667766809463501\n",
            "Nilai Minimum: 0.27863210439682007\n"
          ]
        }
      ]
    },
    {
      "cell_type": "markdown",
      "source": [
        "###9. Find the maximum and minimum index values."
      ],
      "metadata": {
        "id": "MiOBiUnRdlLm"
      }
    },
    {
      "cell_type": "code",
      "source": [
        "argmax_index = torch.argmax(result_gpu)\n",
        "argmin_index = torch.argmin(result_gpu)\n",
        "print(\"\\nIndeks Maksimum:\", argmax_index.item())\n",
        "print(\"Indeks Minimum:\", argmin_index.item())"
      ],
      "metadata": {
        "colab": {
          "base_uri": "https://localhost:8080/"
        },
        "id": "PnESX7UPeJob",
        "outputId": "3692b7ff-6dde-476b-c9ef-7886ff43c7c9"
      },
      "execution_count": 20,
      "outputs": [
        {
          "output_type": "stream",
          "name": "stdout",
          "text": [
            "\n",
            "Indeks Maksimum: 1\n",
            "Indeks Minimum: 0\n"
          ]
        }
      ]
    },
    {
      "cell_type": "markdown",
      "source": [
        "###10. Make a random tensor with shape (1, 1, 1, 10) and then create a new tensor with all the 1 dimensions removed to be left with a tensor of shape (10)."
      ],
      "metadata": {
        "id": "bb7hkLU8eVIk"
      }
    },
    {
      "cell_type": "code",
      "source": [
        "torch.manual_seed(7)\n",
        "tensor_random_4d = torch.rand((1, 1, 1, 10))\n",
        "tensor_flat = tensor_random_4d.view(-1)\n",
        "print(\"\\nTensor Pertama dan Bentuknya:\")\n",
        "print(tensor_random_4d)\n",
        "print(tensor_random_4d.shape)\n",
        "print(\"\\nTensor Kedua dan Bentuknya setelah Menghapus Dimensi 1:\")\n",
        "print(tensor_flat)\n",
        "print(tensor_flat.shape)"
      ],
      "metadata": {
        "colab": {
          "base_uri": "https://localhost:8080/"
        },
        "id": "eXVERYWXeWoX",
        "outputId": "9acade23-8a7d-474a-bb51-505d4c938d7e"
      },
      "execution_count": 22,
      "outputs": [
        {
          "output_type": "stream",
          "name": "stdout",
          "text": [
            "\n",
            "Tensor Pertama dan Bentuknya:\n",
            "tensor([[[[0.5349, 0.1988, 0.6592, 0.6569, 0.2328, 0.4251, 0.2071, 0.6297,\n",
            "           0.3653, 0.8513]]]])\n",
            "torch.Size([1, 1, 1, 10])\n",
            "\n",
            "Tensor Kedua dan Bentuknya setelah Menghapus Dimensi 1:\n",
            "tensor([0.5349, 0.1988, 0.6592, 0.6569, 0.2328, 0.4251, 0.2071, 0.6297, 0.3653,\n",
            "        0.8513])\n",
            "torch.Size([10])\n"
          ]
        }
      ]
    }
  ]
}